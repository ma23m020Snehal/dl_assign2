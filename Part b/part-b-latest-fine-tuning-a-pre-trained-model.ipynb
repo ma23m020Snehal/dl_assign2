{
 "cells": [
  {
   "cell_type": "code",
   "execution_count": 3,
   "metadata": {
    "_cell_guid": "b1076dfc-b9ad-4769-8c92-a6c4dae69d19",
    "_uuid": "8f2839f25d086af736a60e9eeb907d3b93b6e0e5",
    "execution": {
     "iopub.execute_input": "2025-04-17T11:04:57.862564Z",
     "iopub.status.busy": "2025-04-17T11:04:57.862251Z",
     "iopub.status.idle": "2025-04-17T11:04:58.245036Z",
     "shell.execute_reply": "2025-04-17T11:04:58.244363Z",
     "shell.execute_reply.started": "2025-04-17T11:04:57.862497Z"
    },
    "trusted": true
   },
   "outputs": [],
   "source": [
    "# This Python 3 environment comes with many helpful analytics libraries installed\n",
    "# It is defined by the kaggle/python Docker image: https://github.com/kaggle/docker-python\n",
    "# For example, here's several helpful packages to load\n",
    "\n",
    "import numpy as np # linear algebra\n",
    "import pandas as pd # data processing, CSV file I/O (e.g. pd.read_csv)\n",
    "\n",
    "# Input data files are available in the read-only \"../input/\" directory\n",
    "# For example, running this (by clicking run or pressing Shift+Enter) will list all files under the input directory\n",
    "\n",
    "# import os\n",
    "# for dirname, _, filenames in os.walk('/kaggle/input'):\n",
    "#     for filename in filenames:\n",
    "#         print(os.path.join(dirname, filename))\n",
    "\n",
    "# You can write up to 20GB to the current directory (/kaggle/working/) that gets preserved as output when you create a version using \"Save & Run All\" \n",
    "# You can also write temporary files to /kaggle/temp/, but they won't be saved outside of the current session"
   ]
  },
  {
   "cell_type": "markdown",
   "metadata": {},
   "source": [
    "# Step 1: Setting up the wandb"
   ]
  },
  {
   "cell_type": "code",
   "execution_count": null,
   "metadata": {
    "execution": {
     "iopub.execute_input": "2025-04-17T11:05:00.843278Z",
     "iopub.status.busy": "2025-04-17T11:05:00.842223Z",
     "iopub.status.idle": "2025-04-17T11:05:01.066427Z",
     "shell.execute_reply": "2025-04-17T11:05:01.065652Z",
     "shell.execute_reply.started": "2025-04-17T11:05:00.843240Z"
    },
    "trusted": true
   },
   "outputs": [],
   "source": [
    "import wandb\n",
    "from kaggle_secrets import UserSecretsClient\n",
    "user_secrets = UserSecretsClient()\n",
    "secret_value_0 = user_secrets.get_secret(\"wandb\")"
   ]
  },
  {
   "cell_type": "code",
   "execution_count": null,
   "metadata": {
    "execution": {
     "iopub.execute_input": "2025-04-17T11:05:03.253357Z",
     "iopub.status.busy": "2025-04-17T11:05:03.253093Z",
     "iopub.status.idle": "2025-04-17T11:05:12.326249Z",
     "shell.execute_reply": "2025-04-17T11:05:12.325591Z",
     "shell.execute_reply.started": "2025-04-17T11:05:03.253339Z"
    },
    "trusted": true
   },
   "outputs": [
    {
     "name": "stderr",
     "output_type": "stream",
     "text": [
      "\u001b[34m\u001b[1mwandb\u001b[0m: \u001b[33mWARNING\u001b[0m If you're specifying your api key in code, ensure this code is not shared publicly.\n",
      "\u001b[34m\u001b[1mwandb\u001b[0m: \u001b[33mWARNING\u001b[0m Consider setting the WANDB_API_KEY environment variable, or running `wandb login` from the command line.\n",
      "\u001b[34m\u001b[1mwandb\u001b[0m: Appending key for api.wandb.ai to your netrc file: /root/.netrc\n",
      "\u001b[34m\u001b[1mwandb\u001b[0m: Currently logged in as: \u001b[33mma23m020\u001b[0m (\u001b[33msnehalma23m020-iit-madras\u001b[0m) to \u001b[32mhttps://api.wandb.ai\u001b[0m. Use \u001b[1m`wandb login --relogin`\u001b[0m to force relogin\n"
     ]
    },
    {
     "data": {
      "text/plain": [
       "True"
      ]
     },
     "execution_count": 5,
     "metadata": {},
     "output_type": "execute_result"
    }
   ],
   "source": [
    "wandb.login(key=secret_value_0)"
   ]
  },
  {
   "cell_type": "markdown",
   "metadata": {},
   "source": [
    "# Step 2: Loading the inaturalist dataset \n",
    "# train set is divided into train and validation in the ratio 80-20."
   ]
  },
  {
   "cell_type": "code",
   "execution_count": 6,
   "metadata": {
    "execution": {
     "iopub.execute_input": "2025-04-17T11:05:12.328095Z",
     "iopub.status.busy": "2025-04-17T11:05:12.327607Z",
     "iopub.status.idle": "2025-04-17T11:05:12.332268Z",
     "shell.execute_reply": "2025-04-17T11:05:12.331399Z",
     "shell.execute_reply.started": "2025-04-17T11:05:12.328073Z"
    },
    "trusted": true
   },
   "outputs": [],
   "source": [
    "train = '/kaggle/input/data-2/inaturalist_12K/train'\n",
    "\n",
    "test = '/kaggle/input/data-2/inaturalist_12K/val'"
   ]
  },
  {
   "cell_type": "markdown",
   "metadata": {},
   "source": [
    "# Class names"
   ]
  },
  {
   "cell_type": "code",
   "execution_count": 7,
   "metadata": {
    "execution": {
     "iopub.execute_input": "2025-04-17T11:05:12.333361Z",
     "iopub.status.busy": "2025-04-17T11:05:12.333032Z",
     "iopub.status.idle": "2025-04-17T11:05:12.357705Z",
     "shell.execute_reply": "2025-04-17T11:05:12.356700Z",
     "shell.execute_reply.started": "2025-04-17T11:05:12.333331Z"
    },
    "trusted": true
   },
   "outputs": [],
   "source": [
    "classes = ['Amphibia','Animalia','Arachnida','Aves','Fungi','Insecta','Mammalia','Mollusca','Plantae','Reptilia']"
   ]
  },
  {
   "cell_type": "markdown",
   "metadata": {},
   "source": [
    "# Step 3: importing important libraries"
   ]
  },
  {
   "cell_type": "code",
   "execution_count": 8,
   "metadata": {
    "execution": {
     "iopub.execute_input": "2025-04-17T11:05:12.359622Z",
     "iopub.status.busy": "2025-04-17T11:05:12.359264Z",
     "iopub.status.idle": "2025-04-17T11:05:20.572051Z",
     "shell.execute_reply": "2025-04-17T11:05:20.571189Z",
     "shell.execute_reply.started": "2025-04-17T11:05:12.359590Z"
    },
    "trusted": true
   },
   "outputs": [],
   "source": [
    "import torch\n",
    "import torch.nn as nn\n",
    "from torchvision import datasets, transforms,models\n",
    "import torch.optim as optim\n",
    "from collections import defaultdict\n",
    "from torch.utils.data import DataLoader, Subset\n",
    "import wandb\n",
    "import random"
   ]
  },
  {
   "cell_type": "markdown",
   "metadata": {},
   "source": [
    "# Step 4: Setup "
   ]
  },
  {
   "cell_type": "code",
   "execution_count": 9,
   "metadata": {
    "execution": {
     "iopub.execute_input": "2025-04-17T11:05:20.574336Z",
     "iopub.status.busy": "2025-04-17T11:05:20.573760Z",
     "iopub.status.idle": "2025-04-17T11:05:20.580806Z",
     "shell.execute_reply": "2025-04-17T11:05:20.579940Z",
     "shell.execute_reply.started": "2025-04-17T11:05:20.574304Z"
    },
    "trusted": true
   },
   "outputs": [],
   "source": [
    "\n",
    "device = torch.device(\"cuda\" if torch.cuda.is_available() else \"cpu\")\n",
    "DATA_PATH = '/kaggle/input/data-2/inaturalist_12K/train'\n",
    "IMAGE_SIZE = (224, 224)"
   ]
  },
  {
   "cell_type": "markdown",
   "metadata": {},
   "source": [
    "# Step 5 : Setting up the seed : so that same thing is selected in every run"
   ]
  },
  {
   "cell_type": "code",
   "execution_count": 10,
   "metadata": {
    "execution": {
     "iopub.execute_input": "2025-04-17T11:05:20.582238Z",
     "iopub.status.busy": "2025-04-17T11:05:20.581699Z",
     "iopub.status.idle": "2025-04-17T11:05:20.636923Z",
     "shell.execute_reply": "2025-04-17T11:05:20.636153Z",
     "shell.execute_reply.started": "2025-04-17T11:05:20.582206Z"
    },
    "trusted": true
   },
   "outputs": [],
   "source": [
    "def set_seed(seed=42):\n",
    "    torch.manual_seed(seed)\n",
    "    random.seed(seed)"
   ]
  },
  {
   "cell_type": "markdown",
   "metadata": {},
   "source": [
    "# Step 6: Splitting the data  \n"
   ]
  },
  {
   "cell_type": "code",
   "execution_count": 11,
   "metadata": {
    "execution": {
     "iopub.execute_input": "2025-04-17T11:05:23.813207Z",
     "iopub.status.busy": "2025-04-17T11:05:23.812930Z",
     "iopub.status.idle": "2025-04-17T11:05:23.819130Z",
     "shell.execute_reply": "2025-04-17T11:05:23.818121Z",
     "shell.execute_reply.started": "2025-04-17T11:05:23.813189Z"
    },
    "trusted": true
   },
   "outputs": [],
   "source": [
    "def stratified_split(dataset, val_fraction=0.2, seed=42): \n",
    "    random.seed(seed)\n",
    "    label_to_idx = defaultdict(list)\n",
    "    \n",
    "   \n",
    "    for idx, (_, label) in enumerate(dataset.samples):    # mapping class label to index.\n",
    "        label_to_idx[label].append(idx)\n",
    "    \n",
    "    train_indxs, val_indxs = [], []\n",
    "    \n",
    "    for label, indices in label_to_idx.items():\n",
    "        n_val = int(len(indices) * val_fraction)  # number of validation samples for that class\n",
    "        random.shuffle(indices)\n",
    "        val_indxs.extend(indices[:n_val])\n",
    "        train_indxs.extend(indices[n_val:])\n",
    "    \n",
    "    return Subset(dataset, train_indxs), Subset(dataset, val_indxs)"
   ]
  },
  {
   "cell_type": "markdown",
   "metadata": {},
   "source": [
    "# Step 7 : Preparing the Dataset"
   ]
  },
  {
   "cell_type": "code",
   "execution_count": 12,
   "metadata": {
    "execution": {
     "iopub.execute_input": "2025-04-17T11:05:26.497671Z",
     "iopub.status.busy": "2025-04-17T11:05:26.497322Z",
     "iopub.status.idle": "2025-04-17T11:05:26.503627Z",
     "shell.execute_reply": "2025-04-17T11:05:26.502684Z",
     "shell.execute_reply.started": "2025-04-17T11:05:26.497634Z"
    },
    "trusted": true
   },
   "outputs": [],
   "source": [
    "def prepare_data(data_dir, val_fraction=0.2, use_augmentation=True):\n",
    "    # Core preprocessing: resize, convert to tensor, normalize channels\n",
    "    core_transforms = [\n",
    "        transforms.Resize(IMAGE_SIZE),\n",
    "        transforms.ToTensor(),\n",
    "        transforms.Normalize((0.5, 0.5, 0.5), (0.5, 0.5, 0.5))\n",
    "    ]\n",
    "        \n",
    "        # Data augmentation steps to improve generalization\n",
    "    aug_transforms = [\n",
    "        transforms.RandomHorizontalFlip(),\n",
    "        transforms.RandomRotation(10)\n",
    "    ]\n",
    "\n",
    "    transform = transforms.Compose(aug_transforms + core_transforms) if use_augmentation else transforms.Compose(core_transforms)\n",
    "    \n",
    "    full_dataset = datasets.ImageFolder(data_dir, transform=transform)\n",
    "    \n",
    "    return stratified_split(full_dataset, val_fraction=val_fraction, seed=42)"
   ]
  },
  {
   "cell_type": "markdown",
   "metadata": {},
   "source": [
    "# Step 8: Model Preparation (ResNet50 pretrained model) "
   ]
  },
  {
   "cell_type": "code",
   "execution_count": 13,
   "metadata": {
    "execution": {
     "iopub.execute_input": "2025-04-17T11:05:29.214034Z",
     "iopub.status.busy": "2025-04-17T11:05:29.213376Z",
     "iopub.status.idle": "2025-04-17T11:05:29.219688Z",
     "shell.execute_reply": "2025-04-17T11:05:29.218642Z",
     "shell.execute_reply.started": "2025-04-17T11:05:29.214009Z"
    },
    "trusted": true
   },
   "outputs": [],
   "source": [
    "def initialize_model(num_classes=10, freeze_ratio=1.0):\n",
    "\n",
    "    model = models.resnet50(pretrained=True)   # using pre-trained resnet 50 model\n",
    "    in_features = model.fc.in_features\n",
    "    model.fc = nn.Linear(in_features, num_classes)\n",
    "    \n",
    "\n",
    "    params = list(model.parameters())      # Freeze some of the parameters based on freeze_ratio (a paramter in the sweep configuration)\n",
    "    freeze_limit = int(len(params) * freeze_ratio)\n",
    "    for i, param in enumerate(params):\n",
    "        param.requires_grad = (i >= freeze_limit)\n",
    "    \n",
    "    \n",
    "    for param in model.fc.parameters():\n",
    "        param.requires_grad = True   # to make sure that layers of the classifier are trainable.\n",
    "\n",
    "    return model.to(device)\n"
   ]
  },
  {
   "cell_type": "markdown",
   "metadata": {},
   "source": [
    "# Step 9 : Training Function"
   ]
  },
  {
   "cell_type": "code",
   "execution_count": 14,
   "metadata": {
    "execution": {
     "iopub.execute_input": "2025-04-17T11:05:31.629861Z",
     "iopub.status.busy": "2025-04-17T11:05:31.629593Z",
     "iopub.status.idle": "2025-04-17T11:05:31.638748Z",
     "shell.execute_reply": "2025-04-17T11:05:31.637818Z",
     "shell.execute_reply.started": "2025-04-17T11:05:31.629842Z"
    },
    "trusted": true
   },
   "outputs": [],
   "source": [
    "def train_model(model, dataloaders, config):\n",
    "    loss_func = nn.CrossEntropyLoss()\n",
    "    optim = optim.Adam(list(filter(lambda p: p.requires_grad, model.parameters())),lr=config.lr, weight_decay=config.l2_reg)\n",
    "\n",
    "    for epoch in range(config.epochs):\n",
    "        # Training begins\n",
    "        model.train()\n",
    "        num_samples_total, num_correct = 0, 0\n",
    "        for xb, yb in dataloaders['train']:\n",
    "            xb, yb = xb.to(device), yb.to(device)\n",
    "            optim.zero_grad()\n",
    "            outputs = model(xb)\n",
    "            loss = loss_func(outputs, yb)\n",
    "            loss.backward()\n",
    "            optim.step()\n",
    "            num_samples_total += yb.size(0)\n",
    "            num_correct += (outputs.argmax(1) == yb).sum().item()\n",
    "        train_acc = num_correct / num_samples_total\n",
    "\n",
    "         # Validation begins\n",
    "        model.eval()\n",
    "        num_samples_total, num_correct = 0, 0\n",
    "        \n",
    "        with torch.no_grad():\n",
    "            for xb, yb in dataloaders['val']:\n",
    "                xb, yb = xb.to(device), yb.to(device)\n",
    "                outputs = model(xb)\n",
    "                num_samples_total += yb.size(0)\n",
    "                num_correct += (outputs.argmax(1) == yb).sum().item()\n",
    "        val_acc = num_correct / num_samples_total\n",
    "\n",
    "\n",
    "    # Logging metrics to W&B (Weights & Biases)\n",
    "        wandb.log({\n",
    "            \"epoch\": epoch,\n",
    "            \"train_accuracy\": train_acc * 100,\n",
    "            \"val_accuracy\": val_acc * 100\n",
    "        })\n",
    "        print(f\"Epoch [{epoch+1}/{config.epochs}] | Train Acc: {train_acc:.4f} | Val Acc: {val_acc:.4f}\")"
   ]
  },
  {
   "cell_type": "markdown",
   "metadata": {},
   "source": [
    "# Step 10 : Defining the WandB configuration"
   ]
  },
  {
   "cell_type": "code",
   "execution_count": 16,
   "metadata": {
    "execution": {
     "iopub.execute_input": "2025-04-17T11:06:03.883815Z",
     "iopub.status.busy": "2025-04-17T11:06:03.883144Z",
     "iopub.status.idle": "2025-04-17T11:06:03.888776Z",
     "shell.execute_reply": "2025-04-17T11:06:03.887927Z",
     "shell.execute_reply.started": "2025-04-17T11:06:03.883785Z"
    },
    "trusted": true
   },
   "outputs": [],
   "source": [
    "sweep_config = {\n",
    "    'method': 'bayes', # using the bayesian strategy\n",
    "    'metric': {\n",
    "        'name': 'val_accuracy',\n",
    "        'goal': 'maximize'\n",
    "    },\n",
    "    'parameters': {\n",
    "        'lr': {'values': [1e-3, 1e-4,1e-2]},\n",
    "        'freeze_ratio': {'values': [0.2,0.4,0.6,0.8,0.9, 1.0]},\n",
    "        'batch_size': {'values': [32, 64]},\n",
    "        'epochs': {'values': [5, 10,15]},\n",
    "        'l2_reg': {'values': [0, 0.0005, 0.05]},\n",
    "        'model_name': {'values': ['resnet50']},\n",
    "        'data_aug': {'values': ['yes', 'no']}\n",
    "    }\n",
    "}\n"
   ]
  },
  {
   "cell_type": "markdown",
   "metadata": {},
   "source": [
    "# Step 11 : Running the sweep"
   ]
  },
  {
   "cell_type": "code",
   "execution_count": null,
   "metadata": {
    "execution": {
     "execution_failed": "2025-04-17T08:22:50.603Z",
     "iopub.execute_input": "2025-04-17T06:07:54.220006Z",
     "iopub.status.busy": "2025-04-17T06:07:54.219436Z"
    },
    "trusted": true
   },
   "outputs": [
    {
     "name": "stdout",
     "output_type": "stream",
     "text": [
      "Create sweep with ID: 2fnqi433\n",
      "Sweep URL: https://wandb.ai/snehalma23m020-iit-madras/fine-tune-inaturalist/sweeps/2fnqi433\n"
     ]
    },
    {
     "name": "stderr",
     "output_type": "stream",
     "text": [
      "\u001b[34m\u001b[1mwandb\u001b[0m: Agent Starting Run: w0blb0vy with config:\n",
      "\u001b[34m\u001b[1mwandb\u001b[0m: \tbatch_size: 64\n",
      "\u001b[34m\u001b[1mwandb\u001b[0m: \tdata_aug: no\n",
      "\u001b[34m\u001b[1mwandb\u001b[0m: \tepochs: 15\n",
      "\u001b[34m\u001b[1mwandb\u001b[0m: \tfreeze_ratio: 1\n",
      "\u001b[34m\u001b[1mwandb\u001b[0m: \tl2_reg: 0\n",
      "\u001b[34m\u001b[1mwandb\u001b[0m: \tlr: 0.0001\n",
      "\u001b[34m\u001b[1mwandb\u001b[0m: \tmodel_name: resnet50\n",
      "\u001b[34m\u001b[1mwandb\u001b[0m: Using wandb-core as the SDK backend.  Please refer to https://wandb.me/wandb-core for more information.\n"
     ]
    },
    {
     "data": {
      "text/html": [
       "Tracking run with wandb version 0.19.6"
      ],
      "text/plain": [
       "<IPython.core.display.HTML object>"
      ]
     },
     "metadata": {},
     "output_type": "display_data"
    },
    {
     "data": {
      "text/html": [
       "Run data is saved locally in <code>/kaggle/working/wandb/run-20250417_060800-w0blb0vy</code>"
      ],
      "text/plain": [
       "<IPython.core.display.HTML object>"
      ]
     },
     "metadata": {},
     "output_type": "display_data"
    },
    {
     "data": {
      "text/html": [
       "Syncing run <strong><a href='https://wandb.ai/snehalma23m020-iit-madras/fine-tune-inaturalist/runs/w0blb0vy' target=\"_blank\">fragrant-sweep-28</a></strong> to <a href='https://wandb.ai/snehalma23m020-iit-madras/fine-tune-inaturalist' target=\"_blank\">Weights & Biases</a> (<a href='https://wandb.me/developer-guide' target=\"_blank\">docs</a>)<br>Sweep page: <a href='https://wandb.ai/snehalma23m020-iit-madras/fine-tune-inaturalist/sweeps/zsg2wxr3' target=\"_blank\">https://wandb.ai/snehalma23m020-iit-madras/fine-tune-inaturalist/sweeps/zsg2wxr3</a>"
      ],
      "text/plain": [
       "<IPython.core.display.HTML object>"
      ]
     },
     "metadata": {},
     "output_type": "display_data"
    },
    {
     "data": {
      "text/html": [
       " View project at <a href='https://wandb.ai/snehalma23m020-iit-madras/fine-tune-inaturalist' target=\"_blank\">https://wandb.ai/snehalma23m020-iit-madras/fine-tune-inaturalist</a>"
      ],
      "text/plain": [
       "<IPython.core.display.HTML object>"
      ]
     },
     "metadata": {},
     "output_type": "display_data"
    },
    {
     "data": {
      "text/html": [
       " View sweep at <a href='https://wandb.ai/snehalma23m020-iit-madras/fine-tune-inaturalist/sweeps/zsg2wxr3' target=\"_blank\">https://wandb.ai/snehalma23m020-iit-madras/fine-tune-inaturalist/sweeps/zsg2wxr3</a>"
      ],
      "text/plain": [
       "<IPython.core.display.HTML object>"
      ]
     },
     "metadata": {},
     "output_type": "display_data"
    },
    {
     "data": {
      "text/html": [
       " View run at <a href='https://wandb.ai/snehalma23m020-iit-madras/fine-tune-inaturalist/runs/w0blb0vy' target=\"_blank\">https://wandb.ai/snehalma23m020-iit-madras/fine-tune-inaturalist/runs/w0blb0vy</a>"
      ],
      "text/plain": [
       "<IPython.core.display.HTML object>"
      ]
     },
     "metadata": {},
     "output_type": "display_data"
    },
    {
     "name": "stderr",
     "output_type": "stream",
     "text": [
      "/usr/local/lib/python3.11/dist-packages/torchvision/models/_utils.py:208: UserWarning: The parameter 'pretrained' is deprecated since 0.13 and may be removed in the future, please use 'weights' instead.\n",
      "  warnings.warn(\n",
      "/usr/local/lib/python3.11/dist-packages/torchvision/models/_utils.py:223: UserWarning: Arguments other than a weight enum or `None` for 'weights' are deprecated since 0.13 and may be removed in the future. The current behavior is equivalent to passing `weights=ResNet50_Weights.IMAGENET1K_V1`. You can also use `weights=ResNet50_Weights.DEFAULT` to get the most up-to-date weights.\n",
      "  warnings.warn(msg)\n"
     ]
    },
    {
     "name": "stdout",
     "output_type": "stream",
     "text": [
      "Epoch [1/15] | Train Acc: 0.4465 | Val Acc: 0.6088\n",
      "Epoch [2/15] | Train Acc: 0.6639 | Val Acc: 0.6748\n",
      "Epoch [3/15] | Train Acc: 0.7081 | Val Acc: 0.6913\n",
      "Epoch [4/15] | Train Acc: 0.7179 | Val Acc: 0.7024\n",
      "Epoch [5/15] | Train Acc: 0.7251 | Val Acc: 0.7094\n",
      "Epoch [6/15] | Train Acc: 0.7335 | Val Acc: 0.7184\n",
      "Epoch [7/15] | Train Acc: 0.7404 | Val Acc: 0.7189\n",
      "Epoch [8/15] | Train Acc: 0.7436 | Val Acc: 0.7279\n",
      "Epoch [9/15] | Train Acc: 0.7488 | Val Acc: 0.7354\n",
      "Epoch [10/15] | Train Acc: 0.7561 | Val Acc: 0.7344\n",
      "Epoch [11/15] | Train Acc: 0.7579 | Val Acc: 0.7364\n",
      "Epoch [12/15] | Train Acc: 0.7644 | Val Acc: 0.7409\n",
      "Epoch [13/15] | Train Acc: 0.7654 | Val Acc: 0.7414\n",
      "Epoch [14/15] | Train Acc: 0.7665 | Val Acc: 0.7379\n",
      "Epoch [15/15] | Train Acc: 0.7690 | Val Acc: 0.7484\n"
     ]
    },
    {
     "data": {
      "text/html": [],
      "text/plain": [
       "<IPython.core.display.HTML object>"
      ]
     },
     "metadata": {},
     "output_type": "display_data"
    },
    {
     "data": {
      "text/html": [
       "<br>    <style><br>        .wandb-row {<br>            display: flex;<br>            flex-direction: row;<br>            flex-wrap: wrap;<br>            justify-content: flex-start;<br>            width: 100%;<br>        }<br>        .wandb-col {<br>            display: flex;<br>            flex-direction: column;<br>            flex-basis: 100%;<br>            flex: 1;<br>            padding: 10px;<br>        }<br>    </style><br><div class=\"wandb-row\"><div class=\"wandb-col\"><h3>Run history:</h3><br/><table class=\"wandb\"><tr><td>epoch</td><td>▁▁▂▃▃▃▄▅▅▅▆▇▇▇█</td></tr><tr><td>train_accuracy</td><td>▁▆▇▇▇▇▇▇███████</td></tr><tr><td>val_accuracy</td><td>▁▄▅▆▆▆▇▇▇▇▇██▇█</td></tr></table><br/></div><div class=\"wandb-col\"><h3>Run summary:</h3><br/><table class=\"wandb\"><tr><td>epoch</td><td>14</td></tr><tr><td>train_accuracy</td><td>76.9</td></tr><tr><td>val_accuracy</td><td>74.83742</td></tr></table><br/></div></div>"
      ],
      "text/plain": [
       "<IPython.core.display.HTML object>"
      ]
     },
     "metadata": {},
     "output_type": "display_data"
    },
    {
     "data": {
      "text/html": [
       " View run <strong style=\"color:#cdcd00\">fragrant-sweep-28</strong> at: <a href='https://wandb.ai/snehalma23m020-iit-madras/fine-tune-inaturalist/runs/w0blb0vy' target=\"_blank\">https://wandb.ai/snehalma23m020-iit-madras/fine-tune-inaturalist/runs/w0blb0vy</a><br> View project at: <a href='https://wandb.ai/snehalma23m020-iit-madras/fine-tune-inaturalist' target=\"_blank\">https://wandb.ai/snehalma23m020-iit-madras/fine-tune-inaturalist</a><br>Synced 5 W&B file(s), 0 media file(s), 0 artifact file(s) and 0 other file(s)"
      ],
      "text/plain": [
       "<IPython.core.display.HTML object>"
      ]
     },
     "metadata": {},
     "output_type": "display_data"
    },
    {
     "data": {
      "text/html": [
       "Find logs at: <code>./wandb/run-20250417_060800-w0blb0vy/logs</code>"
      ],
      "text/plain": [
       "<IPython.core.display.HTML object>"
      ]
     },
     "metadata": {},
     "output_type": "display_data"
    },
    {
     "name": "stderr",
     "output_type": "stream",
     "text": [
      "\u001b[34m\u001b[1mwandb\u001b[0m: Agent Starting Run: 3ob57ftm with config:\n",
      "\u001b[34m\u001b[1mwandb\u001b[0m: \tbatch_size: 32\n",
      "\u001b[34m\u001b[1mwandb\u001b[0m: \tdata_aug: no\n",
      "\u001b[34m\u001b[1mwandb\u001b[0m: \tepochs: 15\n",
      "\u001b[34m\u001b[1mwandb\u001b[0m: \tfreeze_ratio: 1\n",
      "\u001b[34m\u001b[1mwandb\u001b[0m: \tl2_reg: 0.05\n",
      "\u001b[34m\u001b[1mwandb\u001b[0m: \tlr: 0.0001\n",
      "\u001b[34m\u001b[1mwandb\u001b[0m: \tmodel_name: resnet50\n"
     ]
    },
    {
     "data": {
      "text/html": [
       "Tracking run with wandb version 0.19.6"
      ],
      "text/plain": [
       "<IPython.core.display.HTML object>"
      ]
     },
     "metadata": {},
     "output_type": "display_data"
    },
    {
     "data": {
      "text/html": [
       "Run data is saved locally in <code>/kaggle/working/wandb/run-20250417_064333-3ob57ftm</code>"
      ],
      "text/plain": [
       "<IPython.core.display.HTML object>"
      ]
     },
     "metadata": {},
     "output_type": "display_data"
    },
    {
     "data": {
      "text/html": [
       "Syncing run <strong><a href='https://wandb.ai/snehalma23m020-iit-madras/fine-tune-inaturalist/runs/3ob57ftm' target=\"_blank\">comfy-sweep-29</a></strong> to <a href='https://wandb.ai/snehalma23m020-iit-madras/fine-tune-inaturalist' target=\"_blank\">Weights & Biases</a> (<a href='https://wandb.me/developer-guide' target=\"_blank\">docs</a>)<br>Sweep page: <a href='https://wandb.ai/snehalma23m020-iit-madras/fine-tune-inaturalist/sweeps/zsg2wxr3' target=\"_blank\">https://wandb.ai/snehalma23m020-iit-madras/fine-tune-inaturalist/sweeps/zsg2wxr3</a>"
      ],
      "text/plain": [
       "<IPython.core.display.HTML object>"
      ]
     },
     "metadata": {},
     "output_type": "display_data"
    },
    {
     "data": {
      "text/html": [
       " View project at <a href='https://wandb.ai/snehalma23m020-iit-madras/fine-tune-inaturalist' target=\"_blank\">https://wandb.ai/snehalma23m020-iit-madras/fine-tune-inaturalist</a>"
      ],
      "text/plain": [
       "<IPython.core.display.HTML object>"
      ]
     },
     "metadata": {},
     "output_type": "display_data"
    },
    {
     "data": {
      "text/html": [
       " View sweep at <a href='https://wandb.ai/snehalma23m020-iit-madras/fine-tune-inaturalist/sweeps/zsg2wxr3' target=\"_blank\">https://wandb.ai/snehalma23m020-iit-madras/fine-tune-inaturalist/sweeps/zsg2wxr3</a>"
      ],
      "text/plain": [
       "<IPython.core.display.HTML object>"
      ]
     },
     "metadata": {},
     "output_type": "display_data"
    },
    {
     "data": {
      "text/html": [
       " View run at <a href='https://wandb.ai/snehalma23m020-iit-madras/fine-tune-inaturalist/runs/3ob57ftm' target=\"_blank\">https://wandb.ai/snehalma23m020-iit-madras/fine-tune-inaturalist/runs/3ob57ftm</a>"
      ],
      "text/plain": [
       "<IPython.core.display.HTML object>"
      ]
     },
     "metadata": {},
     "output_type": "display_data"
    },
    {
     "name": "stdout",
     "output_type": "stream",
     "text": [
      "Epoch [1/15] | Train Acc: 0.5049 | Val Acc: 0.6443\n",
      "Epoch [2/15] | Train Acc: 0.6757 | Val Acc: 0.6963\n",
      "Epoch [3/15] | Train Acc: 0.7111 | Val Acc: 0.7114\n",
      "Epoch [4/15] | Train Acc: 0.7195 | Val Acc: 0.7159\n",
      "Epoch [5/15] | Train Acc: 0.7244 | Val Acc: 0.7234\n",
      "Epoch [6/15] | Train Acc: 0.7315 | Val Acc: 0.7294\n",
      "Epoch [7/15] | Train Acc: 0.7424 | Val Acc: 0.7244\n",
      "Epoch [9/15] | Train Acc: 0.7520 | Val Acc: 0.7409\n",
      "Epoch [10/15] | Train Acc: 0.7480 | Val Acc: 0.7424\n",
      "Epoch [11/15] | Train Acc: 0.7494 | Val Acc: 0.7474\n",
      "Epoch [12/15] | Train Acc: 0.7510 | Val Acc: 0.7439\n",
      "Epoch [13/15] | Train Acc: 0.7569 | Val Acc: 0.7449\n",
      "Epoch [14/15] | Train Acc: 0.7581 | Val Acc: 0.7519\n",
      "Epoch [15/15] | Train Acc: 0.7564 | Val Acc: 0.7539\n"
     ]
    },
    {
     "data": {
      "text/html": [],
      "text/plain": [
       "<IPython.core.display.HTML object>"
      ]
     },
     "metadata": {},
     "output_type": "display_data"
    },
    {
     "data": {
      "text/html": [
       "<br>    <style><br>        .wandb-row {<br>            display: flex;<br>            flex-direction: row;<br>            flex-wrap: wrap;<br>            justify-content: flex-start;<br>            width: 100%;<br>        }<br>        .wandb-col {<br>            display: flex;<br>            flex-direction: column;<br>            flex-basis: 100%;<br>            flex: 1;<br>            padding: 10px;<br>        }<br>    </style><br><div class=\"wandb-row\"><div class=\"wandb-col\"><h3>Run history:</h3><br/><table class=\"wandb\"><tr><td>epoch</td><td>▁▁▂▃▃▃▄▅▅▅▆▇▇▇█</td></tr><tr><td>train_accuracy</td><td>▁▆▇▇▇▇█████████</td></tr><tr><td>val_accuracy</td><td>▁▄▅▆▆▆▆▇▇▇█▇▇██</td></tr></table><br/></div><div class=\"wandb-col\"><h3>Run summary:</h3><br/><table class=\"wandb\"><tr><td>epoch</td><td>14</td></tr><tr><td>train_accuracy</td><td>75.6375</td></tr><tr><td>val_accuracy</td><td>75.38769</td></tr></table><br/></div></div>"
      ],
      "text/plain": [
       "<IPython.core.display.HTML object>"
      ]
     },
     "metadata": {},
     "output_type": "display_data"
    },
    {
     "data": {
      "text/html": [
       " View run <strong style=\"color:#cdcd00\">comfy-sweep-29</strong> at: <a href='https://wandb.ai/snehalma23m020-iit-madras/fine-tune-inaturalist/runs/3ob57ftm' target=\"_blank\">https://wandb.ai/snehalma23m020-iit-madras/fine-tune-inaturalist/runs/3ob57ftm</a><br> View project at: <a href='https://wandb.ai/snehalma23m020-iit-madras/fine-tune-inaturalist' target=\"_blank\">https://wandb.ai/snehalma23m020-iit-madras/fine-tune-inaturalist</a><br>Synced 5 W&B file(s), 0 media file(s), 0 artifact file(s) and 0 other file(s)"
      ],
      "text/plain": [
       "<IPython.core.display.HTML object>"
      ]
     },
     "metadata": {},
     "output_type": "display_data"
    },
    {
     "data": {
      "text/html": [
       "Find logs at: <code>./wandb/run-20250417_064333-3ob57ftm/logs</code>"
      ],
      "text/plain": [
       "<IPython.core.display.HTML object>"
      ]
     },
     "metadata": {},
     "output_type": "display_data"
    },
    {
     "name": "stderr",
     "output_type": "stream",
     "text": [
      "\u001b[34m\u001b[1mwandb\u001b[0m: Agent Starting Run: n2jl7bp1 with config:\n",
      "\u001b[34m\u001b[1mwandb\u001b[0m: \tbatch_size: 64\n",
      "\u001b[34m\u001b[1mwandb\u001b[0m: \tdata_aug: no\n",
      "\u001b[34m\u001b[1mwandb\u001b[0m: \tepochs: 15\n",
      "\u001b[34m\u001b[1mwandb\u001b[0m: \tfreeze_ratio: 1\n",
      "\u001b[34m\u001b[1mwandb\u001b[0m: \tl2_reg: 0.0005\n",
      "\u001b[34m\u001b[1mwandb\u001b[0m: \tlr: 0.0001\n",
      "\u001b[34m\u001b[1mwandb\u001b[0m: \tmodel_name: resnet50\n"
     ]
    },
    {
     "data": {
      "text/html": [
       "Tracking run with wandb version 0.19.6"
      ],
      "text/plain": [
       "<IPython.core.display.HTML object>"
      ]
     },
     "metadata": {},
     "output_type": "display_data"
    },
    {
     "data": {
      "text/html": [
       "Run data is saved locally in <code>/kaggle/working/wandb/run-20250417_071650-n2jl7bp1</code>"
      ],
      "text/plain": [
       "<IPython.core.display.HTML object>"
      ]
     },
     "metadata": {},
     "output_type": "display_data"
    },
    {
     "data": {
      "text/html": [
       "Syncing run <strong><a href='https://wandb.ai/snehalma23m020-iit-madras/fine-tune-inaturalist/runs/n2jl7bp1' target=\"_blank\">eternal-sweep-30</a></strong> to <a href='https://wandb.ai/snehalma23m020-iit-madras/fine-tune-inaturalist' target=\"_blank\">Weights & Biases</a> (<a href='https://wandb.me/developer-guide' target=\"_blank\">docs</a>)<br>Sweep page: <a href='https://wandb.ai/snehalma23m020-iit-madras/fine-tune-inaturalist/sweeps/zsg2wxr3' target=\"_blank\">https://wandb.ai/snehalma23m020-iit-madras/fine-tune-inaturalist/sweeps/zsg2wxr3</a>"
      ],
      "text/plain": [
       "<IPython.core.display.HTML object>"
      ]
     },
     "metadata": {},
     "output_type": "display_data"
    },
    {
     "data": {
      "text/html": [
       " View project at <a href='https://wandb.ai/snehalma23m020-iit-madras/fine-tune-inaturalist' target=\"_blank\">https://wandb.ai/snehalma23m020-iit-madras/fine-tune-inaturalist</a>"
      ],
      "text/plain": [
       "<IPython.core.display.HTML object>"
      ]
     },
     "metadata": {},
     "output_type": "display_data"
    },
    {
     "data": {
      "text/html": [
       " View sweep at <a href='https://wandb.ai/snehalma23m020-iit-madras/fine-tune-inaturalist/sweeps/zsg2wxr3' target=\"_blank\">https://wandb.ai/snehalma23m020-iit-madras/fine-tune-inaturalist/sweeps/zsg2wxr3</a>"
      ],
      "text/plain": [
       "<IPython.core.display.HTML object>"
      ]
     },
     "metadata": {},
     "output_type": "display_data"
    },
    {
     "data": {
      "text/html": [
       " View run at <a href='https://wandb.ai/snehalma23m020-iit-madras/fine-tune-inaturalist/runs/n2jl7bp1' target=\"_blank\">https://wandb.ai/snehalma23m020-iit-madras/fine-tune-inaturalist/runs/n2jl7bp1</a>"
      ],
      "text/plain": [
       "<IPython.core.display.HTML object>"
      ]
     },
     "metadata": {},
     "output_type": "display_data"
    },
    {
     "name": "stdout",
     "output_type": "stream",
     "text": [
      "Epoch [1/15] | Train Acc: 0.4465 | Val Acc: 0.6088\n",
      "Epoch [2/15] | Train Acc: 0.6639 | Val Acc: 0.6748\n",
      "Epoch [3/15] | Train Acc: 0.7081 | Val Acc: 0.6913\n",
      "Epoch [4/15] | Train Acc: 0.7179 | Val Acc: 0.7024\n",
      "Epoch [5/15] | Train Acc: 0.7251 | Val Acc: 0.7094\n",
      "Epoch [6/15] | Train Acc: 0.7335 | Val Acc: 0.7184\n",
      "Epoch [7/15] | Train Acc: 0.7401 | Val Acc: 0.7189\n",
      "Epoch [8/15] | Train Acc: 0.7436 | Val Acc: 0.7274\n",
      "Epoch [9/15] | Train Acc: 0.7486 | Val Acc: 0.7354\n",
      "Epoch [10/15] | Train Acc: 0.7561 | Val Acc: 0.7344\n",
      "Epoch [11/15] | Train Acc: 0.7579 | Val Acc: 0.7364\n",
      "Epoch [12/15] | Train Acc: 0.7641 | Val Acc: 0.7409\n",
      "Epoch [13/15] | Train Acc: 0.7655 | Val Acc: 0.7414\n",
      "Epoch [14/15] | Train Acc: 0.7666 | Val Acc: 0.7379\n",
      "Epoch [15/15] | Train Acc: 0.7690 | Val Acc: 0.7479\n"
     ]
    },
    {
     "data": {
      "text/html": [],
      "text/plain": [
       "<IPython.core.display.HTML object>"
      ]
     },
     "metadata": {},
     "output_type": "display_data"
    },
    {
     "data": {
      "text/html": [
       "<br>    <style><br>        .wandb-row {<br>            display: flex;<br>            flex-direction: row;<br>            flex-wrap: wrap;<br>            justify-content: flex-start;<br>            width: 100%;<br>        }<br>        .wandb-col {<br>            display: flex;<br>            flex-direction: column;<br>            flex-basis: 100%;<br>            flex: 1;<br>            padding: 10px;<br>        }<br>    </style><br><div class=\"wandb-row\"><div class=\"wandb-col\"><h3>Run history:</h3><br/><table class=\"wandb\"><tr><td>epoch</td><td>▁▁▂▃▃▃▄▅▅▅▆▇▇▇█</td></tr><tr><td>train_accuracy</td><td>▁▆▇▇▇▇▇▇███████</td></tr><tr><td>val_accuracy</td><td>▁▄▅▆▆▇▇▇▇▇▇██▇█</td></tr></table><br/></div><div class=\"wandb-col\"><h3>Run summary:</h3><br/><table class=\"wandb\"><tr><td>epoch</td><td>14</td></tr><tr><td>train_accuracy</td><td>76.9</td></tr><tr><td>val_accuracy</td><td>74.78739</td></tr></table><br/></div></div>"
      ],
      "text/plain": [
       "<IPython.core.display.HTML object>"
      ]
     },
     "metadata": {},
     "output_type": "display_data"
    },
    {
     "data": {
      "text/html": [
       " View run <strong style=\"color:#cdcd00\">eternal-sweep-30</strong> at: <a href='https://wandb.ai/snehalma23m020-iit-madras/fine-tune-inaturalist/runs/n2jl7bp1' target=\"_blank\">https://wandb.ai/snehalma23m020-iit-madras/fine-tune-inaturalist/runs/n2jl7bp1</a><br> View project at: <a href='https://wandb.ai/snehalma23m020-iit-madras/fine-tune-inaturalist' target=\"_blank\">https://wandb.ai/snehalma23m020-iit-madras/fine-tune-inaturalist</a><br>Synced 5 W&B file(s), 0 media file(s), 0 artifact file(s) and 0 other file(s)"
      ],
      "text/plain": [
       "<IPython.core.display.HTML object>"
      ]
     },
     "metadata": {},
     "output_type": "display_data"
    },
    {
     "data": {
      "text/html": [
       "Find logs at: <code>./wandb/run-20250417_071650-n2jl7bp1/logs</code>"
      ],
      "text/plain": [
       "<IPython.core.display.HTML object>"
      ]
     },
     "metadata": {},
     "output_type": "display_data"
    },
    {
     "name": "stderr",
     "output_type": "stream",
     "text": [
      "\u001b[34m\u001b[1mwandb\u001b[0m: Agent Starting Run: cdxkeu6o with config:\n",
      "\u001b[34m\u001b[1mwandb\u001b[0m: \tbatch_size: 64\n",
      "\u001b[34m\u001b[1mwandb\u001b[0m: \tdata_aug: no\n",
      "\u001b[34m\u001b[1mwandb\u001b[0m: \tepochs: 15\n",
      "\u001b[34m\u001b[1mwandb\u001b[0m: \tfreeze_ratio: 1\n",
      "\u001b[34m\u001b[1mwandb\u001b[0m: \tl2_reg: 0.05\n",
      "\u001b[34m\u001b[1mwandb\u001b[0m: \tlr: 0.01\n",
      "\u001b[34m\u001b[1mwandb\u001b[0m: \tmodel_name: resnet50\n"
     ]
    },
    {
     "data": {
      "text/html": [
       "Tracking run with wandb version 0.19.6"
      ],
      "text/plain": [
       "<IPython.core.display.HTML object>"
      ]
     },
     "metadata": {},
     "output_type": "display_data"
    },
    {
     "data": {
      "text/html": [
       "Run data is saved locally in <code>/kaggle/working/wandb/run-20250417_075127-cdxkeu6o</code>"
      ],
      "text/plain": [
       "<IPython.core.display.HTML object>"
      ]
     },
     "metadata": {},
     "output_type": "display_data"
    },
    {
     "data": {
      "text/html": [
       "Syncing run <strong><a href='https://wandb.ai/snehalma23m020-iit-madras/fine-tune-inaturalist/runs/cdxkeu6o' target=\"_blank\">vivid-sweep-31</a></strong> to <a href='https://wandb.ai/snehalma23m020-iit-madras/fine-tune-inaturalist' target=\"_blank\">Weights & Biases</a> (<a href='https://wandb.me/developer-guide' target=\"_blank\">docs</a>)<br>Sweep page: <a href='https://wandb.ai/snehalma23m020-iit-madras/fine-tune-inaturalist/sweeps/zsg2wxr3' target=\"_blank\">https://wandb.ai/snehalma23m020-iit-madras/fine-tune-inaturalist/sweeps/zsg2wxr3</a>"
      ],
      "text/plain": [
       "<IPython.core.display.HTML object>"
      ]
     },
     "metadata": {},
     "output_type": "display_data"
    },
    {
     "data": {
      "text/html": [
       " View project at <a href='https://wandb.ai/snehalma23m020-iit-madras/fine-tune-inaturalist' target=\"_blank\">https://wandb.ai/snehalma23m020-iit-madras/fine-tune-inaturalist</a>"
      ],
      "text/plain": [
       "<IPython.core.display.HTML object>"
      ]
     },
     "metadata": {},
     "output_type": "display_data"
    },
    {
     "data": {
      "text/html": [
       " View sweep at <a href='https://wandb.ai/snehalma23m020-iit-madras/fine-tune-inaturalist/sweeps/zsg2wxr3' target=\"_blank\">https://wandb.ai/snehalma23m020-iit-madras/fine-tune-inaturalist/sweeps/zsg2wxr3</a>"
      ],
      "text/plain": [
       "<IPython.core.display.HTML object>"
      ]
     },
     "metadata": {},
     "output_type": "display_data"
    },
    {
     "data": {
      "text/html": [
       " View run at <a href='https://wandb.ai/snehalma23m020-iit-madras/fine-tune-inaturalist/runs/cdxkeu6o' target=\"_blank\">https://wandb.ai/snehalma23m020-iit-madras/fine-tune-inaturalist/runs/cdxkeu6o</a>"
      ],
      "text/plain": [
       "<IPython.core.display.HTML object>"
      ]
     },
     "metadata": {},
     "output_type": "display_data"
    },
    {
     "name": "stdout",
     "output_type": "stream",
     "text": [
      "Epoch [1/15] | Train Acc: 0.5955 | Val Acc: 0.6683\n",
      "Epoch [2/15] | Train Acc: 0.6576 | Val Acc: 0.6508\n",
      "Epoch [3/15] | Train Acc: 0.6480 | Val Acc: 0.6623\n",
      "Epoch [4/15] | Train Acc: 0.6452 | Val Acc: 0.6523\n",
      "Epoch [5/15] | Train Acc: 0.6494 | Val Acc: 0.7029\n",
      "Epoch [6/15] | Train Acc: 0.6484 | Val Acc: 0.6798\n",
      "Epoch [7/15] | Train Acc: 0.6429 | Val Acc: 0.6803\n",
      "Epoch [8/15] | Train Acc: 0.6502 | Val Acc: 0.6658\n",
      "Epoch [9/15] | Train Acc: 0.6524 | Val Acc: 0.6488\n",
      "Epoch [10/15] | Train Acc: 0.6411 | Val Acc: 0.5828\n",
      "Epoch [11/15] | Train Acc: 0.6495 | Val Acc: 0.6198\n",
      "Epoch [12/15] | Train Acc: 0.6481 | Val Acc: 0.6513\n",
      "Epoch [13/15] | Train Acc: 0.6374 | Val Acc: 0.6438\n"
     ]
    }
   ],
   "source": [
    "def run_sweep():\n",
    "     # Start a new Weights & Biases run to track this sweep trial\n",
    "    with wandb.init() as run:\n",
    "        config = wandb.config     # Pull in the hyperparameter configuration for this run\n",
    "        set_seed()          # Set random seeds for reproducibility\n",
    "\n",
    "        use_aug = config.data_aug == 'yes'  # Decide whether to apply data augmentation based on the sweep config\n",
    "        train_data, val_data = prepare_data(DATA_PATH, val_fraction=0.2, use_augmentation=use_aug)\n",
    "       \n",
    "        # Load and split the train dataset into stratified train and validation subsets\n",
    "        dataloaders = {\n",
    "            'train': DataLoader(train_data, batch_size=config.batch_size, shuffle=True),\n",
    "            'val': DataLoader(val_data, batch_size=config.batch_size)\n",
    "        }\n",
    "\n",
    "    # Build the model with the specified number of classes and freeze ratio\n",
    "        model = initialize_model(num_classes=10, freeze_ratio=config.freeze_ratio)\n",
    "        train_model(model, dataloaders, config)\n",
    "\n",
    "sweep_id = wandb.sweep(sweep=sweep_config, project=\"fine-tune-inaturalist\") \n",
    "\n",
    "# Starting the Sweep \n",
    "if __name__ == '__main__':\n",
    "    wandb.agent(sweep_id, function=run_sweep, count=31)\n"
   ]
  },
  {
   "cell_type": "code",
   "execution_count": null,
   "metadata": {
    "trusted": true
   },
   "outputs": [],
   "source": []
  }
 ],
 "metadata": {
  "kaggle": {
   "accelerator": "none",
   "dataSources": [
    {
     "datasetId": 7147996,
     "sourceId": 11412634,
     "sourceType": "datasetVersion"
    }
   ],
   "dockerImageVersionId": 31012,
   "isGpuEnabled": false,
   "isInternetEnabled": true,
   "language": "python",
   "sourceType": "notebook"
  },
  "kernelspec": {
   "display_name": "Python 3",
   "language": "python",
   "name": "python3"
  },
  "language_info": {
   "codemirror_mode": {
    "name": "ipython",
    "version": 3
   },
   "file_extension": ".py",
   "mimetype": "text/x-python",
   "name": "python",
   "nbconvert_exporter": "python",
   "pygments_lexer": "ipython3",
   "version": "3.11.11"
  }
 },
 "nbformat": 4,
 "nbformat_minor": 4
}
